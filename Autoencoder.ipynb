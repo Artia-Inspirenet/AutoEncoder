{
 "cells": [
  {
   "cell_type": "code",
   "execution_count": 1,
   "metadata": {},
   "outputs": [],
   "source": [
    "import tensorflow as tf\n",
    "import set_data"
   ]
  },
  {
   "cell_type": "code",
   "execution_count": 2,
   "metadata": {},
   "outputs": [],
   "source": [
    "def conv_block(input, num_kernel, training):\n",
    "    net = tf.layers.conv2d(input, num_kernel, kernel_size=[3, 3], strides=2, padding='SAME', activation=tf.nn.relu)\n",
    "    net = tf.layers.batch_normalization(net, training=training)\n",
    "    return net"
   ]
  },
  {
   "cell_type": "code",
   "execution_count": 3,
   "metadata": {},
   "outputs": [],
   "source": [
    "def deconv_block(input, num_kernel, training):\n",
    "    net = tf.layers.conv2d_transpose(input, num_kernel, kernel_size=[3, 3], strides=2, padding='SAME', activation=tf.nn.relu)\n",
    "    net = tf.layers.batch_normalization(net, training=training)\n",
    "    return net"
   ]
  },
  {
   "cell_type": "code",
   "execution_count": 6,
   "metadata": {},
   "outputs": [],
   "source": [
    "class AE():\n",
    "    def __init__(self):\n",
    "        self.graph = tf.Graph()\n",
    "        self.batch_size = 128\n",
    "        with self.graph.as_default():\n",
    "            with tf.device('/cpu:0'):\n",
    "                train_datasets, _ = set_data.create_mnist_dataset(self.batch_size, 'train')\n",
    "                iterator = train_datasets.make_one_shot_iterator()\n",
    "                self.images, labels =iterator.get_next()\n",
    "            self.generated_images = self._build_graph(self.images, 5, reuse=tf.AUTO_REUSE, training=True)\n",
    "            self.loss = self._loss_function(self.images, self.generated_images)\n",
    "            self.solver = tf.train.AdamOptimizer(learning_rate=0.0001) \\\n",
    "                           .minimize(self.loss)\n",
    "            initializer = tf.global_variables_initializer()\n",
    "            self.sess = tf.Session()\n",
    "            self.sess.run(initializer)\n",
    "    def train(self):\n",
    "        for i in range(10001):\n",
    "            loss, _, np_real_images, np_generated_images = self.sess.run(\n",
    "                    [self.loss, self.solver, self.images, self.generated_images])\n",
    "            if i % 100 == 0:\n",
    "                print(\"iterator {} : loss {} \".format(i, loss))\n",
    "            if i % 1000 == 0:\n",
    "                self.visualize(np_real_images, np_generated_images)\n",
    "            \n",
    "    def visualize(self, images, generated_images):\n",
    "        pass\n",
    "    def _build_graph(self, input, dim_code, reuse=tf.AUTO_REUSE, training=False):\n",
    "        with tf.variable_scope('encoder', reuse = reuse):\n",
    "            print(input)\n",
    "            net = conv_block(input, 32, training) #28x28 -> 14x14\n",
    "            net = conv_block(net, 32, training) #14x14 -> 7x7\n",
    "            net = conv_block(net, 64, training) #7x7 -> 3x3\n",
    "            net = tf.layers.flatten(net) # 3x3 -> 9\n",
    "            latent_var = tf.layers.dense(net, dim_code) # 9 -> dim_code\n",
    "        with tf.variable_scope('decoder', reuse = reuse):\n",
    "            net = tf.layers.dense(latent_var, 7*7)\n",
    "            net = tf.reshape(shape=[-1, 7, 7, 1], tensor=net)\n",
    "            net = deconv_block(net, 32, training) #7x7 -> 14x14\n",
    "            net = deconv_block(net, 64, training) #14x14 -> 28x28\n",
    "            net = tf.layers.conv2d_transpose(net, 1, [3,3], padding = \"SAME\", activation=None)\n",
    "            generated = tf.nn.tanh(net)\n",
    "        return generated\n",
    "    def _loss_function(self, _real_images, _generated_images):\n",
    "        recon_loss = tf.reduce_mean(tf.square(_real_images - _generated_images))\n",
    "        return recon_loss"
   ]
  },
  {
   "cell_type": "code",
   "execution_count": 7,
   "metadata": {},
   "outputs": [
    {
     "name": "stdout",
     "output_type": "stream",
     "text": [
      "Tensor(\"IteratorGetNext:0\", shape=(?, 28, 28, 1), dtype=float32, device=/device:CPU:0)\n"
     ]
    }
   ],
   "source": [
    "x = AE()"
   ]
  },
  {
   "cell_type": "code",
   "execution_count": null,
   "metadata": {},
   "outputs": [
    {
     "name": "stdout",
     "output_type": "stream",
     "text": [
      "iterator 0 : loss 1.319155216217041 \n"
     ]
    }
   ],
   "source": [
    "x.train()"
   ]
  }
 ],
 "metadata": {
  "kernelspec": {
   "display_name": "tf",
   "language": "python",
   "name": "tf"
  },
  "language_info": {
   "codemirror_mode": {
    "name": "ipython",
    "version": 3
   },
   "file_extension": ".py",
   "mimetype": "text/x-python",
   "name": "python",
   "nbconvert_exporter": "python",
   "pygments_lexer": "ipython3",
   "version": "3.6.6"
  }
 },
 "nbformat": 4,
 "nbformat_minor": 2
}
